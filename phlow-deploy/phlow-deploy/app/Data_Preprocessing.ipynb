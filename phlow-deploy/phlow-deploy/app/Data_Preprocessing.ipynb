{
 "cells": [
  {
   "cell_type": "markdown",
   "id": "246452c0",
   "metadata": {},
   "source": [
    "# Assigned new id's and save to new csv"
   ]
  },
  {
   "cell_type": "code",
   "execution_count": 2,
   "id": "c6868e1e",
   "metadata": {},
   "outputs": [],
   "source": [
    "import pandas as pd\n",
    "\n",
    "# Load your CSV file into a DataFrame\n",
    "df = pd.read_csv( r'C:\\Prixite\\phlow\\USPTO_50K.csv')\n",
    "\n",
    "# Create a new column with unique IDs\n",
    "df['new_id'] = range(1, len(df) + 1)\n",
    "\n",
    "# Reorder columns as needed\n",
    "df = df[['new_id', 'class', 'classes', 'reactions']]\n",
    "\n",
    "# Save the DataFrame to a new CSV file\n",
    "df.to_csv(r'C:\\Prixite\\phlow\\data\\processed\\USPTO_50KNEWID.csv', index=False)\n"
   ]
  },
  {
   "cell_type": "markdown",
   "id": "819b04d0",
   "metadata": {},
   "source": [
    "# dupliacted combination of classes and reactions in new csv"
   ]
  },
  {
   "cell_type": "code",
   "execution_count": 3,
   "id": "4f7422b0",
   "metadata": {},
   "outputs": [
    {
     "name": "stdout",
     "output_type": "stream",
     "text": [
      "Number of entries where 'classes', and 'reactions' are collectively the same:\n",
      "                  classes                                          reactions  \\\n",
      "23     C?C bond formation  Brc1c2ccccc2cc2ccccc12.OB(O)c1ccccc1>>c1ccc(-c...   \n",
      "37     C?C bond formation  Brc1cc2ccccc2c2ccccc12.O=Cc1ccccc1B(O)O>>O=Cc1...   \n",
      "62     C?C bond formation  Brc1ccc(Br)nc1.OB(O)c1ccccc1>>Brc1ccc(-c2ccccc...   \n",
      "108    C?C bond formation  Brc1ccc2c(c1)CNC2.CCS(=O)(=O)N1CCC(c2c[nH]c3c(...   \n",
      "198    C?C bond formation  Brc1ccccn1.OB(O)c1cccc(Br)c1>>Brc1cccc(-c2cccc...   \n",
      "...                   ...                                                ...   \n",
      "49496          reductions  O=[N+]([O-])c1ccc(Nc2nccs2)cc1>>Nc1ccc(Nc2nccs...   \n",
      "49577          reductions  O=[N+]([O-])c1cccc2c(Cl)nccc12>>Nc1cccc2c(Cl)n...   \n",
      "49580          reductions        O=[N+]([O-])c1cccc2c1OCCO2>>Nc1cccc2c1OCCO2   \n",
      "49596          reductions  O=[N+]([O-])c1ccccc1Oc1ccnc2ccccc12>>Nc1ccccc1...   \n",
      "49699          reductions                  c1ccc2[nH]ccc2c1>>c1ccc2c(c1)CCN2   \n",
      "\n",
      "       occurrences  \n",
      "23               2  \n",
      "37               2  \n",
      "62               2  \n",
      "108              2  \n",
      "198              2  \n",
      "...            ...  \n",
      "49496            2  \n",
      "49577            2  \n",
      "49580            2  \n",
      "49596            2  \n",
      "49699            2  \n",
      "\n",
      "[301 rows x 3 columns]\n",
      "\n",
      "Total number of occurrences where 'classes', and 'reactions' are collectively the same: 615\n"
     ]
    }
   ],
   "source": [
    "import pandas as pd\n",
    "\n",
    "# Load your new CSV file into a DataFrame\n",
    "df = pd.read_csv(r'C:\\Prixite\\phlow\\data\\processed\\USPTO_50KNEWID.csv')\n",
    "\n",
    "same_combination_counts = df.groupby(['classes', 'reactions']).size().reset_index(name='occurrences')\n",
    "\n",
    "# Filter rows where the combination occurs more than once\n",
    "duplicates_with_count = same_combination_counts[same_combination_counts['occurrences'] > 1]\n",
    "\n",
    "# Count the total number of occurrences where 'classes', and 'reactions' are collectively the same\n",
    "total_duplicate_occurrences = duplicates_with_count['occurrences'].sum()\n",
    "\n",
    "# Display the results\n",
    "print(\"Number of entries where 'classes', and 'reactions' are collectively the same:\")\n",
    "print(duplicates_with_count)\n",
    "print(\"\\nTotal number of occurrences where 'classes', and 'reactions' are collectively the same:\", total_duplicate_occurrences)"
   ]
  },
  {
   "cell_type": "markdown",
   "id": "6ab1f07a",
   "metadata": {},
   "source": [
    "# droping rows having combination of duplicates"
   ]
  },
  {
   "cell_type": "code",
   "execution_count": 4,
   "id": "eef7d442",
   "metadata": {},
   "outputs": [],
   "source": [
    "df_no_duplicates = df.drop_duplicates(subset=['classes', 'reactions'], keep='first')\n",
    "\n",
    "# Save the new dataset as a CSV file\n",
    "df_no_duplicates.to_csv(r'C:\\Prixite\\phlow\\data\\processed\\Zero_duplicates.csv', index=False)"
   ]
  },
  {
   "cell_type": "markdown",
   "id": "9eabf598",
   "metadata": {},
   "source": [
    "# checking combination of duplicates (classes and reactions zero duplicates file)"
   ]
  },
  {
   "cell_type": "code",
   "execution_count": 5,
   "id": "1b31d0e3",
   "metadata": {
    "slideshow": {
     "slide_type": "-"
    }
   },
   "outputs": [
    {
     "name": "stdout",
     "output_type": "stream",
     "text": [
      "Number of entries where 'classes', and 'reactions' are collectively the same:\n",
      "Empty DataFrame\n",
      "Columns: [classes, reactions, occurrences]\n",
      "Index: []\n",
      "\n",
      "Total number of occurrences where 'classes', and 'reactions' are collectively the same: 0\n"
     ]
    }
   ],
   "source": [
    "import pandas as pd\n",
    "\n",
    "# Load your new CSV file into a DataFrame\n",
    "df = pd.read_csv(r'C:\\Prixite\\phlow\\data\\processed\\Zero_duplicates.csv')\n",
    "\n",
    "same_combination_counts = df.groupby(['classes', 'reactions']).size().reset_index(name='occurrences')\n",
    "\n",
    "# Filter rows where the combination occurs more than once\n",
    "duplicates_with_count = same_combination_counts[same_combination_counts['occurrences'] > 1]\n",
    "\n",
    "# Count the total number of occurrences where 'classes', and 'reactions' are collectively the same\n",
    "total_duplicate_occurrences = duplicates_with_count['occurrences'].sum()\n",
    "\n",
    "# Display the results\n",
    "print(\"Number of entries where 'classes', and 'reactions' are collectively the same:\")\n",
    "print(duplicates_with_count)\n",
    "print(\"\\nTotal number of occurrences where 'classes', and 'reactions' are collectively the same:\", total_duplicate_occurrences)"
   ]
  },
  {
   "cell_type": "code",
   "execution_count": null,
   "id": "3ba1b941",
   "metadata": {},
   "outputs": [],
   "source": []
  }
 ],
 "metadata": {
  "celltoolbar": "Slideshow",
  "kernelspec": {
   "display_name": "Python 3 (ipykernel)",
   "language": "python",
   "name": "python3"
  },
  "language_info": {
   "codemirror_mode": {
    "name": "ipython",
    "version": 3
   },
   "file_extension": ".py",
   "mimetype": "text/x-python",
   "name": "python",
   "nbconvert_exporter": "python",
   "pygments_lexer": "ipython3",
   "version": "3.11.4"
  }
 },
 "nbformat": 4,
 "nbformat_minor": 5
}
